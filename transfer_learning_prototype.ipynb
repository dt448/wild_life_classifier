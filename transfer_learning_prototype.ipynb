{
 "cells": [
  {
   "cell_type": "code",
   "execution_count": 2,
   "id": "1eef9117",
   "metadata": {},
   "outputs": [],
   "source": [
    "from keras.layers import Input, Lambda, Dense, Flatten\n",
    "from keras.models import Model\n",
    "from keras.applications.resnet_v2 import ResNet101V2\n",
    "from keras.applications.resnet_v2 import preprocess_input\n",
    "from keras.preprocessing import image\n",
    "from keras.preprocessing.image import ImageDataGenerator\n",
    "from keras.models import Sequential\n",
    "import numpy as np\n",
    "from glob import glob\n",
    "import matplotlib.pyplot as plt"
   ]
  },
  {
   "cell_type": "code",
   "execution_count": 3,
   "id": "c6625d54",
   "metadata": {},
   "outputs": [],
   "source": [
    "IMAGE_SIZE = [224,224]\n",
    "\n",
    "train_path = 'images/'\n",
    "valid_path = 'test_images/'"
   ]
  },
  {
   "cell_type": "code",
   "execution_count": null,
   "id": "b62221c3",
   "metadata": {},
   "outputs": [],
   "source": [
    "resnet = ResNet101V2(input_shape = IMAGE_SIZE+[3], weights='imagenet', include_top = flase)\n"
   ]
  },
  {
   "cell_type": "code",
   "execution_count": null,
   "id": "74629411",
   "metadata": {},
   "outputs": [],
   "source": [
    "# Don't train existing weights\n",
    "for layer in resenet.layers:\n",
    "    layer.trainable = False"
   ]
  },
  {
   "cell_type": "code",
   "execution_count": null,
   "id": "bd9b97a7",
   "metadata": {},
   "outputs": [],
   "source": [
    "folders = glob('images/')"
   ]
  },
  {
   "cell_type": "code",
   "execution_count": null,
   "id": "45fd998a",
   "metadata": {},
   "outputs": [],
   "source": [
    "# custom layers\n",
    "x = Flatten()(resnet.output)\n",
    "prediction = Dense(len(folders), activation = 'softmax')(x)\n",
    "\n",
    "# create a model object\n",
    "model = Model(inputs = resnet.input, outputs = prediction)\n"
   ]
  },
  {
   "cell_type": "code",
   "execution_count": null,
   "id": "e9aa9342",
   "metadata": {},
   "outputs": [],
   "source": [
    "# view the structure of the model \n",
    "model.summary()"
   ]
  },
  {
   "cell_type": "code",
   "execution_count": null,
   "id": "0bef2e35",
   "metadata": {},
   "outputs": [],
   "source": [
    "# compile model with cost and optimizer\n",
    "model.compile(\n",
    "loss = 'categorical_crossentropy',\n",
    "optimizer = 'adam',\n",
    "metrics = ['accuracy'])"
   ]
  },
  {
   "cell_type": "code",
   "execution_count": null,
   "id": "7659729f",
   "metadata": {},
   "outputs": [],
   "source": [
    "train_datagen = ImageDataGenerator(rescale  = 1./255,\n",
    "                                  shear_range = 0.2,\n",
    "                                  zoom_range = 0.2,\n",
    "                                  horizontal_flip = True)\n",
    "\n",
    "training_set = train_datagen.flow_from_directory('/images/',\n",
    "                                                target_size = (224,224),\n",
    "                                                 batch_size = 32,\n",
    "                                                class_mode = 'categorical')\n",
    "\n",
    "# training_set = train_datagen.flow_from_directory('/test_images/',\n",
    "#                                                 target_size = (224,224),\n",
    "#                                                  batch_size = 32,\n",
    "#                                                 class_mode = 'categorical')\n"
   ]
  },
  {
   "cell_type": "code",
   "execution_count": null,
   "id": "48a60824",
   "metadata": {},
   "outputs": [],
   "source": [
    "# fit the model\n",
    "r = model.fit_generator(\n",
    "    training_set,\n",
    "#     validation_data - test_set,\n",
    "    epochs = 5,\n",
    "    steps_per_epoch = len(training_set),\n",
    "    validation_steps = len(test_set)\n",
    ")"
   ]
  },
  {
   "cell_type": "code",
   "execution_count": null,
   "id": "f74249f5",
   "metadata": {},
   "outputs": [],
   "source": [
    "# learning curves\n",
    "plt.plot(r.history['loss'], label = 'train loss')\n",
    "# plt.plot(r.history['val_loss'], label = 'val loss')\n",
    "plt.legend()\n",
    "plt.show()\n"
   ]
  }
 ],
 "metadata": {
  "kernelspec": {
   "display_name": "Python 3 (ipykernel)",
   "language": "python",
   "name": "python3"
  },
  "language_info": {
   "codemirror_mode": {
    "name": "ipython",
    "version": 3
   },
   "file_extension": ".py",
   "mimetype": "text/x-python",
   "name": "python",
   "nbconvert_exporter": "python",
   "pygments_lexer": "ipython3",
   "version": "3.8.10"
  }
 },
 "nbformat": 4,
 "nbformat_minor": 5
}

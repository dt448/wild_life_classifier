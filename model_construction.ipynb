{
 "cells": [
  {
   "cell_type": "code",
   "execution_count": 1,
   "metadata": {},
   "outputs": [],
   "source": "# To get data (looking at images here):\n# 1. Download images manually\n# 2. Kaggle.com\n# 3. Build image web crawler\n# 4. Use Python libraries to scrape the images  this is the method used here using the bing-image-downlaoder library"
  },
  {
   "cell_type": "code",
   "execution_count": 2,
   "metadata": {},
   "outputs": [
    {
     "name": "stdout",
     "output_type": "stream",
     "text": "/usr/lib/python3/dist-packages/secretstorage/dhcrypto.py:15: CryptographyDeprecationWarning: int_from_bytes is deprecated, use int.from_bytes instead\n  from cryptography.utils import int_from_bytes\n/usr/lib/python3/dist-packages/secretstorage/util.py:19: CryptographyDeprecationWarning: int_from_bytes is deprecated, use int.from_bytes instead\n  from cryptography.utils import int_from_bytes\nDefaulting to user installation because normal site-packages is not writeable\nCollecting bing-image-downloader\n  Downloading bing_image_downloader-1.1.2-py3-none-any.whl (5.9 kB)\nInstalling collected packages: bing-image-downloader\nSuccessfully installed bing-image-downloader-1.1.2\n"
    }
   ],
   "source": "!pip install bing-image-downloader"
  },
  {
   "cell_type": "code",
   "execution_count": 9,
   "metadata": {},
   "outputs": [],
   "source": "from bing_image_downloader import downloader"
  },
  {
   "cell_type": "code",
   "execution_count": 11,
   "metadata": {},
   "outputs": [
    {
     "name": "stdout",
     "output_type": "stream",
     "text": "[%] Downloading Images to /home/den/Google Drive/2. Projects/P:wild_life_classifier/wild_life_classifier/images/pigeon\n\n\n[!!]Indexing page: 1\n\n[%] Indexed 17 Images on Page 1.\n\n===============================================\n\n[%] Downloading Image #1 from http://fromhousetohomeblog.files.wordpress.com/2011/07/pigeons.jpg\n[Error]Invalid image, not saving http://fromhousetohomeblog.files.wordpress.com/2011/07/pigeons.jpg\n\n[!] Issue getting: http://fromhousetohomeblog.files.wordpress.com/2011/07/pigeons.jpg\n[!] Error:: Invalid image, not saving http://fromhousetohomeblog.files.wordpress.com/2011/07/pigeons.jpg\n\n[%] Downloading Image #1 from https://www.animalfunfacts.net/images/stories/photos/birds/pigeons/pigeon/pigeon_l.jpg\n[%] File Downloaded !\n\n[%] Downloading Image #2 from http://images6.fanpop.com/image/photos/41200000/Pigeons-pigeons-41211472-1024-768.jpg\n[%] File Downloaded !\n\n[%] Downloading Image #3 from http://3.bp.blogspot.com/-9lMC-dfYJ0A/UoyRuPi7fkI/AAAAAAAAJls/ISeov-rNzsU/s1600/Pigeon+Bird+New+Wallpaper+08.jpg\n[%] File Downloaded !\n\n[%] Downloading Image #4 from https://2.bp.blogspot.com/-JVGZ3smC1rg/VIB51zCT_DI/AAAAAAAAAk0/qt0Qh2lp3NE/s1600/pigeon.jpg\n[%] File Downloaded !\n\n[%] Downloading Image #5 from http://www.hdwallpapers.in/download/flying_pigeon-1920x1080.jpg\n[%] File Downloaded !\n\n[%] Downloading Image #6 from http://www.bearriverranch.com/Archives/Animals/images/Bird_Pigeon2.JPG\n[%] File Downloaded !\n\n[%] Downloading Image #7 from https://upload.wikimedia.org/wikipedia/commons/thumb/a/a9/Pigeons.jpg/655px-Pigeons.jpg\n[%] File Downloaded !\n\n[%] Downloading Image #8 from http://www.permuted.org.uk/photography/wp-content/uploads/2013/04/pigeon_1204138685.jpg\n[%] File Downloaded !\n\n[%] Downloading Image #9 from http://www.publicdomainpictures.net/pictures/120000/velka/pigeon-14251760434Tf.jpg\n[%] File Downloaded !\n\n[%] Downloading Image #10 from https://i.ytimg.com/vi/NcWnEEsvqdg/maxresdefault.jpg\n[%] File Downloaded !\n\n[%] Downloading Image #11 from https://content.peat-cloud.com/thumbnails/phytophthora-blight-1.jpg\n[%] File Downloaded !\n\n[%] Downloading Image #12 from https://3.bp.blogspot.com/-JtrDroqBc8w/URezLHSv36I/AAAAAAAAIEM/USzDDI13Naw/s1600/Rainbow+River.jpg\n[%] File Downloaded !\n\n[%] Downloading Image #13 from https://cdn.onlyinyourstate.com/wp-content/uploads/2016/11/11255333363_065c575886_k-700x393.jpg\n[%] File Downloaded !\n\n[%] Downloading Image #14 from http://www.gowaterfalling.com/waterfalls/images/full/mn/baptismhighfalls5.jpg\n[%] File Downloaded !\n\n[%] Downloading Image #15 from https://pyxis.nymag.com/v1/imgs/dbd/9f3/628e756d9f3db2fa2bcaaf0b64ad401244-interior3.rsquare.w768.jpg\n[Error]Invalid image, not saving https://pyxis.nymag.com/v1/imgs/dbd/9f3/628e756d9f3db2fa2bcaaf0b64ad401244-interior3.rsquare.w768.jpg\n\n[!] Issue getting: https://pyxis.nymag.com/v1/imgs/dbd/9f3/628e756d9f3db2fa2bcaaf0b64ad401244-interior3.rsquare.w768.jpg\n[!] Error:: Invalid image, not saving https://pyxis.nymag.com/v1/imgs/dbd/9f3/628e756d9f3db2fa2bcaaf0b64ad401244-interior3.rsquare.w768.jpg\n\n[%] Downloading Image #15 from https://www.derekwinnert.com/wp-content/uploads/2013/12/77.jpg\n[%] File Downloaded !\n\n\n\n[!!]Indexing page: 2\n\n[%] Indexed 17 Images on Page 2.\n\n===============================================\n\n\n\n[!!]Indexing page: 3\n\n[%] Indexed 17 Images on Page 3.\n\n===============================================\n\n[%] Downloading Image #16 from https://www.publicdomainpictures.net/pictures/70000/velka/pigeon-1384591926sFf.jpg\n[%] File Downloaded !\n\n[%] Downloading Image #17 from http://3.bp.blogspot.com/-CbiQWfbq5ws/UoySguqHIAI/AAAAAAAAJmY/8trtX29iQOc/s1600/Pigeon+Bird+New+Wallpaper+10.jpg\n[%] File Downloaded !\n\n[%] Downloading Image #18 from https://lh5.googleusercontent.com/-K3LIvM58BvA/TYXkdultErI/AAAAAAAACrE/ux1VUYV9Gx8/s1600/pigeon.jpg\n[%] File Downloaded !\n\n[%] Downloading Image #19 from http://2.bp.blogspot.com/-JVGZ3smC1rg/VIB51zCT_DI/AAAAAAAAAk0/qt0Qh2lp3NE/s1600/pigeon.jpg\n[%] File Downloaded !\n\n[%] Downloading Image #20 from https://www.freeimageslive.co.uk/files/images008/pigeon.jpg\n[%] File Downloaded !\n\n\n\n[%] Done. Downloaded 20 images.\n"
    }
   ],
   "source": "downloader.download(\"pigeon\", limit = 20,output_dir=\"images\", adult_filter_off=True)"
  },
  {
   "cell_type": "code",
   "execution_count": null,
   "metadata": {},
   "outputs": [
    {
     "name": "stdout",
     "output_type": "stream",
     "text": "[%] Downloading Images to /home/den/Google Drive/2. Projects/P:wild_life_classifier/wild_life_classifier/images/daffodil\n\n\n[!!]Indexing page: 1\n\n[%] Indexed 17 Images on Page 1.\n\n===============================================\n\n[%] Downloading Image #1 from http://images5.fanpop.com/image/photos/30700000/Daffodil-flowers-30709818-1600-1200.jpg\n[%] File Downloaded !\n\n[%] Downloading Image #2 from http://www.wallpapers13.com/wp-content/uploads/2015/12/Daffodils-flowers-23456-1920x1080.jpg\n[%] File Downloaded !\n\n[%] Downloading Image #3 from http://1.bp.blogspot.com/-cjbmx8mTOnI/TlYtpDQiNGI/AAAAAAAAL4k/du0NGx13Qr8/s1600/first+daffodil+flower+august+19th+2011.jpg\n[%] File Downloaded !\n\n[%] Downloading Image #4 from https://www.wallpapers13.com/wp-content/uploads/2015/12/Daffodils-flowers-3789.jpg\n[%] File Downloaded !\n\n[%] Downloading Image #5 from https://images2.pics4learning.com/catalog/d/daffodil.jpg\n[%] File Downloaded !\n\n[%] Downloading Image #6 from http://www.flowermeaning.com/flower-pics/Daffodil-1.jpg\n[%] File Downloaded !\n\n[%] Downloading Image #7 from http://gardenersnet.com/flower/pics/daffodil04.jpg\n[%] File Downloaded !\n\n[%] Downloading Image #8 from http://www.wallpapers13.com/wp-content/uploads/2015/12/Daffodils-flowers-553-1680x1050.jpg\n[%] File Downloaded !\n\n[%] Downloading Image #9 from http://farm4.staticflickr.com/3247/3070649760_edd8e9e07c_z.jpg\n[%] File Downloaded !\n\n[%] Downloading Image #10 from https://2.bp.blogspot.com/-jcGbVwRcut4/UbyvZG841fI/AAAAAAAASfw/qRQUXnJfPtI/s320/Daffodils+6.jpg\n[%] File Downloaded !\n\n[%] Downloading Image #11 from http://www.tattooeasily.com/wp-content/uploads/2013/06/101.jpg\n[%] File Downloaded !\n\n[%] Downloading Image #12 from https://www.whiteflowerfarm.com/mas_assets/cache/image/2/5/4/3/9539.Jpg\n[%] File Downloaded !\n\n[%] Downloading Image #13 from https://www.colorblends.com/media/prime/product/7065_RedRIval_CWH_L1001647P.jpg\n[%] File Downloaded !\n\n[%] Downloading Image #14 from https://www.missydress.uk.com/media/catalog/product/cache/1/image/9df78eab33525d08d6e5fb8d27136e95/p/o/po16033po1177-1.jpg\n[%] File Downloaded !\n\n[%] Downloading Image #15 from https://cdn.sofiehouse.co/media/catalog/product/cache/1/image/9df78eab33525d08d6e5fb8d27136e95/S/e/Sexy-One-Shoulder-Long-Orange-Chiffon-Beaded-Crystal-Prom-Dress-With-Slit.jpg\n[%] File Downloaded !\n\n[%] Downloading Image #16 from http://www.321horoscope.com/wp-content/uploads/2018/01/april-2.jpg\n[%] File Downloaded !\n\n[%] Downloading Image #17 from https://d29jd5m3t61t9.cloudfront.net/myantiquefurniturecollection.com/images/fbfiles/images/625w/WP_000703_v_1517659448.jpg\n[%] File Downloaded !\n\n\n\n[!!]Indexing page: 2\n\n[%] Indexed 17 Images on Page 2.\n\n===============================================\n\n\n\n[!!]Indexing page: 3\n\n[%] Indexed 16 Images on Page 3.\n\n===============================================\n\n\n\n[!!]Indexing page: 4\n\n[%] Indexed 15 Images on Page 4.\n\n===============================================\n\n\n\n[!!]Indexing page: 5\n\n[%] Indexed 14 Images on Page 5.\n\n===============================================\n\n\n\n[!!]Indexing page: 6\n\n[%] Indexed 13 Images on Page 6.\n\n===============================================\n\n\n\n[!!]Indexing page: 7\n\n[%] Indexed 12 Images on Page 7.\n\n===============================================\n\n\n\n[!!]Indexing page: 8\n\n[%] Indexed 11 Images on Page 8.\n\n===============================================\n\n\n\n[!!]Indexing page: 9\n\n[%] Indexed 10 Images on Page 9.\n\n===============================================\n\n\n\n[!!]Indexing page: 10\n\n[%] Indexed 8 Images on Page 10.\n\n===============================================\n\n[%] Downloading Image #18 from https://i.etsystatic.com/18741467/r/il/928c01/2216979583/il_1588xN.2216979583_s0s4.jpg\n[%] File Downloaded !\n\n[%] Downloading Image #19 from https://usercontent1.hubstatic.com/12504708_f496.jpg\n[%] File Downloaded !\n\n[%] Downloading Image #20 from https://hgtvhome.sndimg.com/content/dam/images/hgtv/editorial/blogs/fullset/Kayla/Original-BPF-KK_fall-house-palette3.jpg.rend.hgtvcom.616.822.suffix/1470416044907.jpeg\n"
    }
   ],
   "source": "downloader.download(\"daffodil\", limit = 20,output_dir=\"images\", adult_filter_off=True)"
  }
 ],
 "metadata": {
  "kernelspec": {
   "display_name": "Python 3 (ipykernel)",
   "language": "python",
   "name": "python3"
  },
  "language_info": {
   "codemirror_mode": {
    "name": "ipython",
    "version": 3
   },
   "file_extension": ".py",
   "mimetype": "text/x-python",
   "name": "python",
   "nbconvert_exporter": "python",
   "pygments_lexer": "ipython3",
   "version": "3.8.10"
  }
 },
 "nbformat": 4,
 "nbformat_minor": 4
}

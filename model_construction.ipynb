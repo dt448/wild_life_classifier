{
 "cells": [
  {
   "cell_type": "code",
   "execution_count": 1,
   "metadata": {},
   "outputs": [],
   "source": "# To get data (looking at images here):\n# 1. Download images manually\n# 2. Kaggle.com\n# 3. Build image web crawler\n# 4. Use Python libraries to scrape the images  this is the method used here using the bing-image-downlaoder library"
  },
  {
   "cell_type": "code",
   "execution_count": 2,
   "metadata": {},
   "outputs": [
    {
     "name": "stdout",
     "output_type": "stream",
     "text": "/usr/lib/python3/dist-packages/secretstorage/dhcrypto.py:15: CryptographyDeprecationWarning: int_from_bytes is deprecated, use int.from_bytes instead\n  from cryptography.utils import int_from_bytes\n/usr/lib/python3/dist-packages/secretstorage/util.py:19: CryptographyDeprecationWarning: int_from_bytes is deprecated, use int.from_bytes instead\n  from cryptography.utils import int_from_bytes\nDefaulting to user installation because normal site-packages is not writeable\nCollecting bing-image-downloader\n  Downloading bing_image_downloader-1.1.2-py3-none-any.whl (5.9 kB)\nInstalling collected packages: bing-image-downloader\nSuccessfully installed bing-image-downloader-1.1.2\n"
    }
   ],
   "source": "!pip install bing-image-downloader"
  },
  {
   "cell_type": "code",
   "execution_count": 9,
   "metadata": {},
   "outputs": [],
   "source": "from bing_image_downloader import downloader"
  },
  {
   "cell_type": "code",
   "execution_count": 11,
   "metadata": {},
   "outputs": [
    {
     "name": "stdout",
     "output_type": "stream",
     "text": "[%] Downloading Images to /home/den/Google Drive/2. Projects/P:wild_life_classifier/wild_life_classifier/images/pigeon\n\n\n[!!]Indexing page: 1\n\n[%] Indexed 17 Images on Page 1.\n\n===============================================\n\n[%] Downloading Image #1 from http://fromhousetohomeblog.files.wordpress.com/2011/07/pigeons.jpg\n[Error]Invalid image, not saving http://fromhousetohomeblog.files.wordpress.com/2011/07/pigeons.jpg\n\n[!] Issue getting: http://fromhousetohomeblog.files.wordpress.com/2011/07/pigeons.jpg\n[!] Error:: Invalid image, not saving http://fromhousetohomeblog.files.wordpress.com/2011/07/pigeons.jpg\n\n[%] Downloading Image #1 from https://www.animalfunfacts.net/images/stories/photos/birds/pigeons/pigeon/pigeon_l.jpg\n[%] File Downloaded !\n\n[%] Downloading Image #2 from http://images6.fanpop.com/image/photos/41200000/Pigeons-pigeons-41211472-1024-768.jpg\n[%] File Downloaded !\n\n[%] Downloading Image #3 from http://3.bp.blogspot.com/-9lMC-dfYJ0A/UoyRuPi7fkI/AAAAAAAAJls/ISeov-rNzsU/s1600/Pigeon+Bird+New+Wallpaper+08.jpg\n[%] File Downloaded !\n\n[%] Downloading Image #4 from https://2.bp.blogspot.com/-JVGZ3smC1rg/VIB51zCT_DI/AAAAAAAAAk0/qt0Qh2lp3NE/s1600/pigeon.jpg\n[%] File Downloaded !\n\n[%] Downloading Image #5 from http://www.hdwallpapers.in/download/flying_pigeon-1920x1080.jpg\n[%] File Downloaded !\n\n[%] Downloading Image #6 from http://www.bearriverranch.com/Archives/Animals/images/Bird_Pigeon2.JPG\n[%] File Downloaded !\n\n[%] Downloading Image #7 from https://upload.wikimedia.org/wikipedia/commons/thumb/a/a9/Pigeons.jpg/655px-Pigeons.jpg\n[%] File Downloaded !\n\n[%] Downloading Image #8 from http://www.permuted.org.uk/photography/wp-content/uploads/2013/04/pigeon_1204138685.jpg\n[%] File Downloaded !\n\n[%] Downloading Image #9 from http://www.publicdomainpictures.net/pictures/120000/velka/pigeon-14251760434Tf.jpg\n[%] File Downloaded !\n\n[%] Downloading Image #10 from https://i.ytimg.com/vi/NcWnEEsvqdg/maxresdefault.jpg\n[%] File Downloaded !\n\n[%] Downloading Image #11 from https://content.peat-cloud.com/thumbnails/phytophthora-blight-1.jpg\n[%] File Downloaded !\n\n[%] Downloading Image #12 from https://3.bp.blogspot.com/-JtrDroqBc8w/URezLHSv36I/AAAAAAAAIEM/USzDDI13Naw/s1600/Rainbow+River.jpg\n[%] File Downloaded !\n\n[%] Downloading Image #13 from https://cdn.onlyinyourstate.com/wp-content/uploads/2016/11/11255333363_065c575886_k-700x393.jpg\n[%] File Downloaded !\n\n[%] Downloading Image #14 from http://www.gowaterfalling.com/waterfalls/images/full/mn/baptismhighfalls5.jpg\n[%] File Downloaded !\n\n[%] Downloading Image #15 from https://pyxis.nymag.com/v1/imgs/dbd/9f3/628e756d9f3db2fa2bcaaf0b64ad401244-interior3.rsquare.w768.jpg\n[Error]Invalid image, not saving https://pyxis.nymag.com/v1/imgs/dbd/9f3/628e756d9f3db2fa2bcaaf0b64ad401244-interior3.rsquare.w768.jpg\n\n[!] Issue getting: https://pyxis.nymag.com/v1/imgs/dbd/9f3/628e756d9f3db2fa2bcaaf0b64ad401244-interior3.rsquare.w768.jpg\n[!] Error:: Invalid image, not saving https://pyxis.nymag.com/v1/imgs/dbd/9f3/628e756d9f3db2fa2bcaaf0b64ad401244-interior3.rsquare.w768.jpg\n\n[%] Downloading Image #15 from https://www.derekwinnert.com/wp-content/uploads/2013/12/77.jpg\n[%] File Downloaded !\n\n\n\n[!!]Indexing page: 2\n\n[%] Indexed 17 Images on Page 2.\n\n===============================================\n\n\n\n[!!]Indexing page: 3\n\n[%] Indexed 17 Images on Page 3.\n\n===============================================\n\n[%] Downloading Image #16 from https://www.publicdomainpictures.net/pictures/70000/velka/pigeon-1384591926sFf.jpg\n[%] File Downloaded !\n\n[%] Downloading Image #17 from http://3.bp.blogspot.com/-CbiQWfbq5ws/UoySguqHIAI/AAAAAAAAJmY/8trtX29iQOc/s1600/Pigeon+Bird+New+Wallpaper+10.jpg\n[%] File Downloaded !\n\n[%] Downloading Image #18 from https://lh5.googleusercontent.com/-K3LIvM58BvA/TYXkdultErI/AAAAAAAACrE/ux1VUYV9Gx8/s1600/pigeon.jpg\n[%] File Downloaded !\n\n[%] Downloading Image #19 from http://2.bp.blogspot.com/-JVGZ3smC1rg/VIB51zCT_DI/AAAAAAAAAk0/qt0Qh2lp3NE/s1600/pigeon.jpg\n[%] File Downloaded !\n\n[%] Downloading Image #20 from https://www.freeimageslive.co.uk/files/images008/pigeon.jpg\n[%] File Downloaded !\n\n\n\n[%] Done. Downloaded 20 images.\n"
    }
   ],
   "source": "downloader.download(\"pigeon\", limit = 20,output_dir=\"images\", adult_filter_off=True)"
  },
  {
   "cell_type": "code",
   "execution_count": 46,
   "metadata": {},
   "outputs": [
    {
     "name": "stdout",
     "output_type": "stream",
     "text": "[%] Downloading Images to /home/den/Google Drive/2. Projects/P:wild_life_classifier/wild_life_classifier/images/daffodil\n\n\n[!!]Indexing page: 1\n\n[%] Indexed 17 Images on Page 1.\n\n===============================================\n\n[%] Downloading Image #1 from http://images5.fanpop.com/image/photos/30700000/Daffodil-flowers-30709818-1600-1200.jpg\n[%] File Downloaded !\n\n[%] Downloading Image #2 from http://www.wallpapers13.com/wp-content/uploads/2015/12/Daffodils-flowers-23456-1920x1080.jpg\n[%] File Downloaded !\n\n[%] Downloading Image #3 from http://1.bp.blogspot.com/-cjbmx8mTOnI/TlYtpDQiNGI/AAAAAAAAL4k/du0NGx13Qr8/s1600/first+daffodil+flower+august+19th+2011.jpg\n[%] File Downloaded !\n\n[%] Downloading Image #4 from https://www.wallpapers13.com/wp-content/uploads/2015/12/Daffodils-flowers-3789.jpg\n[%] File Downloaded !\n\n[%] Downloading Image #5 from https://images2.pics4learning.com/catalog/d/daffodil.jpg\n[%] File Downloaded !\n\n[%] Downloading Image #6 from http://www.flowermeaning.com/flower-pics/Daffodil-1.jpg\n[%] File Downloaded !\n\n[%] Downloading Image #7 from http://gardenersnet.com/flower/pics/daffodil04.jpg\n[%] File Downloaded !\n\n[%] Downloading Image #8 from http://www.wallpapers13.com/wp-content/uploads/2015/12/Daffodils-flowers-553-1680x1050.jpg\n[%] File Downloaded !\n\n[%] Downloading Image #9 from http://farm4.staticflickr.com/3247/3070649760_edd8e9e07c_z.jpg\n[%] File Downloaded !\n\n[%] Downloading Image #10 from https://2.bp.blogspot.com/-jcGbVwRcut4/UbyvZG841fI/AAAAAAAASfw/qRQUXnJfPtI/s320/Daffodils+6.jpg\n[%] File Downloaded !\n\n[%] Downloading Image #11 from http://www.tattooeasily.com/wp-content/uploads/2013/06/101.jpg\n[%] File Downloaded !\n\n[%] Downloading Image #12 from https://www.whiteflowerfarm.com/mas_assets/cache/image/2/5/4/3/9539.Jpg\n[%] File Downloaded !\n\n[%] Downloading Image #13 from https://www.colorblends.com/media/prime/product/7065_RedRIval_CWH_L1001647P.jpg\n[%] File Downloaded !\n\n[%] Downloading Image #14 from https://www.missydress.uk.com/media/catalog/product/cache/1/image/9df78eab33525d08d6e5fb8d27136e95/p/o/po16033po1177-1.jpg\n[%] File Downloaded !\n\n[%] Downloading Image #15 from https://cdn.sofiehouse.co/media/catalog/product/cache/1/image/9df78eab33525d08d6e5fb8d27136e95/S/e/Sexy-One-Shoulder-Long-Orange-Chiffon-Beaded-Crystal-Prom-Dress-With-Slit.jpg\n[%] File Downloaded !\n\n[%] Downloading Image #16 from http://www.321horoscope.com/wp-content/uploads/2018/01/april-2.jpg\n[%] File Downloaded !\n\n[%] Downloading Image #17 from https://d29jd5m3t61t9.cloudfront.net/myantiquefurniturecollection.com/images/fbfiles/images/625w/WP_000703_v_1517659448.jpg\n[%] File Downloaded !\n\n\n\n[!!]Indexing page: 2\n\n[%] Indexed 17 Images on Page 2.\n\n===============================================\n\n\n\n[!!]Indexing page: 3\n\n[%] Indexed 16 Images on Page 3.\n\n===============================================\n\n\n\n[!!]Indexing page: 4\n\n[%] Indexed 14 Images on Page 4.\n\n===============================================\n\n[%] Downloading Image #18 from https://learnodo-newtonic.com/wp-content/uploads/2014/09/Daffodil.jpg\n[%] File Downloaded !\n\n[%] Downloading Image #19 from https://1.bp.blogspot.com/-MfySJPghc3U/TfKBIW_bYLI/AAAAAAAAAHA/WgSbvaRzijg/s400/daffodil_flowermartee_02.jpg\n[%] File Downloaded !\n\n[%] Downloading Image #20 from https://1.bp.blogspot.com/-YVv_XEr6g3Q/UixHz0Zd7iI/AAAAAAAAjtA/mt1tJynUgbg/s1600/Daffodil+Flowers+16.jpg\n[%] File Downloaded !\n\n\n\n[%] Done. Downloaded 20 images.\n"
    }
   ],
   "source": "downloader.download(\"daffodil\", limit = 20,output_dir=\"images\", adult_filter_off=True)"
  },
  {
   "cell_type": "code",
   "execution_count": 24,
   "metadata": {},
   "outputs": [
    {
     "name": "stdout",
     "output_type": "stream",
     "text": "[%] Downloading Images to /home/den/Google Drive/2. Projects/P:wild_life_classifier/wild_life_classifier/images/fox\n\n\n[!!]Indexing page: 1\n\n[%] Indexed 18 Images on Page 1.\n\n===============================================\n\n[%] Downloading Image #1 from https://3.bp.blogspot.com/-5UDtiW8W1_w/T2ra_oHrDnI/AAAAAAAAC2s/B4217gUB8wY/s1600/fox+7.jpg\n[%] File Downloaded !\n\n[%] Downloading Image #2 from http://images6.fanpop.com/image/photos/40000000/FOX-fox-40076151-960-633.jpg\n[%] File Downloaded !\n\n[%] Downloading Image #3 from https://animalia-life.com/data_images/fox/fox2.jpg\n[!] Issue getting: https://animalia-life.com/data_images/fox/fox2.jpg\n[!] Error:: <urlopen error [SSL: WRONG_SIGNATURE_TYPE] wrong signature type (_ssl.c:1131)>\n[%] Downloading Image #3 from http://images1.fanpop.com/images/photos/1300000/Foxes-fox-1326189-545-707.jpg\n[%] File Downloaded !\n\n[%] Downloading Image #4 from https://i1.treknature.com/photos/1652/fox1.jpg\n[!] Issue getting: https://i1.treknature.com/photos/1652/fox1.jpg\n[!] Error:: HTTP Error 403: Forbidden\n[%] Downloading Image #4 from https://i1.treknature.com/photos/16739/fox2.jpg\n[!] Issue getting: https://i1.treknature.com/photos/16739/fox2.jpg\n[!] Error:: HTTP Error 403: Forbidden\n[%] Downloading Image #4 from https://cincinnatizoo.org/system/assets/uploads/2012/12/24074310882_1097344c73_k.jpg\n[%] File Downloaded !\n\n[%] Downloading Image #5 from http://www.paulnoll.com/Books/5000-Words/5000-pic-fox.jpg\n[%] File Downloaded !\n\n[%] Downloading Image #6 from http://wildlife-animals.com/photo-gallery/fox-3.jpg\n[%] File Downloaded !\n\n[%] Downloading Image #7 from https://images2.pics4learning.com/catalog/f/fox1.jpg\n[%] File Downloaded !\n\n[%] Downloading Image #8 from http://images1.fanpop.com/images/photos/1300000/Foxes-fox-1326124-800-546.jpg\n[%] File Downloaded !\n\n[%] Downloading Image #9 from https://en.wikifur.com/w/images/thumb/1/1f/Lookforward.jpg/200px-Lookforward.jpg\n[%] File Downloaded !\n\n[%] Downloading Image #10 from https://www.galeriemagazine.com/wp-content/uploads/2017/08/RD_Fox_0135_Unretouched-copy.jpg\n[%] File Downloaded !\n\n[%] Downloading Image #11 from https://www.biolib.cz/IMG/GAL/176371.jpg\n[%] File Downloaded !\n\n[%] Downloading Image #12 from https://i.pinimg.com/736x/d2/da/36/d2da36ca4dd859d78e02831ff5f085de.jpg\n[%] File Downloaded !\n\n[%] Downloading Image #13 from https://www.laguiadelvaron.com/wp-content/uploads/2015/07/las-mujeres-de-la-copa-america_1915jbuwn7ziu1h2hmh7twwlfr.jpg\n[%] File Downloaded !\n\n[%] Downloading Image #14 from http://www.wallpapers13.com/wp-content/uploads/2018/08/Animals-Reptiles-Gecko-Green-Lizard-4k-Wallpapers-HD-Images-for-Desktop-and-Mobile-3840x2400-1920x1440.jpg\n[%] File Downloaded !\n\n[%] Downloading Image #15 from https://classymommy.com/wp-content/uploads/2015/08/IMG_0336.jpg\n[%] File Downloaded !\n\n\n\n[!!]Indexing page: 2\n\n[%] Indexed 18 Images on Page 2.\n\n===============================================\n\n\n\n[!!]Indexing page: 3\n\n[%] Indexed 16 Images on Page 3.\n\n===============================================\n\n[%] Downloading Image #16 from http://images5.fanpop.com/image/photos/24500000/Fox-fox-24576824-1897-1292.jpg\n[%] File Downloaded !\n\n[%] Downloading Image #17 from https://www.wallpapersdsc.net/wp-content/uploads/2017/05/Fox-Download.jpg\n[%] File Downloaded !\n\n[%] Downloading Image #18 from https://focusingonwildlife.com/news/wp-content/gallery/best-photo-of-the-month-march-2018/red-fox-2_6669.jpg\n[%] File Downloaded !\n\n[%] Downloading Image #19 from https://m5.paperblog.com/i/84/846851/fox-pictures-L-81Eu68.jpeg\n[%] File Downloaded !\n\n[%] Downloading Image #20 from http://media.santabanta.com/medium1/animals/foxes/foxes-2a.jpg\n[!] Issue getting: http://media.santabanta.com/medium1/animals/foxes/foxes-2a.jpg\n[!] Error:: timed out\n[%] Downloading Image #20 from http://www.extremedeer.com/images/Fox-Picture.jpg\n[%] File Downloaded !\n\n\n\n[%] Done. Downloaded 20 images.\n"
    }
   ],
   "source": "downloader.download(\"fox\", limit = 20,output_dir=\"images\", adult_filter_off=True)"
  },
  {
   "cell_type": "code",
   "execution_count": 34,
   "metadata": {},
   "outputs": [
    {
     "name": "stderr",
     "output_type": "stream",
     "text": "/home/den/.local/lib/python3.8/site-packages/skimage/io/manage_plugins.py:23: UserWarning: Your installed pillow version is < 8.1.2. Several security issues (CVE-2021-27921, CVE-2021-25290, CVE-2021-25291, CVE-2021-25293, and more) have been fixed in pillow 8.1.2 or higher. We recommend to upgrade this library.\n  from .collection import imread_collection_wrapper\n"
    },
    {
     "name": "stdout",
     "output_type": "stream",
     "text": "time: 1 s (started: 2022-09-14 17:24:30 +01:00)\n"
    }
   ],
   "source": "# Preprocessing\n# 1. Resizing\n# 2. Flattening\n\n\nimport os\nimport matplotlib.pyplot as plt\nimport numpy as np\nfrom skimage.io import imread\nfrom skimage.transform import resize"
  },
  {
   "cell_type": "code",
   "execution_count": 43,
   "metadata": {},
   "outputs": [],
   "source": "targets = []\nimages = []\nflat_data = []\n\nDATADIR = 'images'\nCATEGORIES = ['pigeon','daffodil','fox']"
  },
  {
   "cell_type": "code",
   "execution_count": 47,
   "metadata": {},
   "outputs": [],
   "source": "for category in CATEGORIES:\n    class_num = CATEGORIES.index(category)\n    path = os.path.join(DATADIR,category)\n    for img in os.listdir(path):\n        img_array = imread(os.path.join(path,img))\n        img_resized = resize(img_array, (150,150,3))\n        flat_data.append(img_resized.flatten())\n        images.append(img_resized)\n        targets.append(class_num)\n\nflat_data = np.array(flat_data)\ntarget = np.array(targets)\nimages = np.array(images)"
  },
  {
   "cell_type": "code",
   "execution_count": 48,
   "metadata": {},
   "outputs": [],
   "source": "# Split data into Training and testing\nfrom sklearn.model_selection import train_test_split\n\nX_train, X_test, y_train,y_test = train_test_split(flat_data,targets,test_size=0.3,random_state=42)"
  },
  {
   "cell_type": "code",
   "execution_count": null,
   "metadata": {},
   "outputs": [
    {
     "name": "stdout",
     "output_type": "stream",
     "text": "Fitting 5 folds for each of 12 candidates, totalling 60 fits\n[CV] END .................................C=1, kernel=linear; total time=   2.3s\n[CV] END .................................C=1, kernel=linear; total time=   2.8s\n[CV] END .................................C=1, kernel=linear; total time=   3.3s\n[CV] END .................................C=1, kernel=linear; total time=   2.2s\n[CV] END .................................C=1, kernel=linear; total time=   2.8s\n[CV] END ................................C=10, kernel=linear; total time=   3.1s\n[CV] END ................................C=10, kernel=linear; total time=   3.0s\n[CV] END ................................C=10, kernel=linear; total time=   3.7s\n[CV] END ................................C=10, kernel=linear; total time=   3.0s\n[CV] END ................................C=10, kernel=linear; total time=   5.0s\n[CV] END ...............................C=100, kernel=linear; total time=   2.3s\n[CV] END ...............................C=100, kernel=linear; total time=   4.6s\n[CV] END ...............................C=100, kernel=linear; total time=   5.6s\n[CV] END ...............................C=100, kernel=linear; total time=   3.8s\n[CV] END ...............................C=100, kernel=linear; total time=   4.7s\n[CV] END ..............................C=1000, kernel=linear; total time=   4.9s\n[CV] END ..............................C=1000, kernel=linear; total time=   5.1s\n[CV] END ..............................C=1000, kernel=linear; total time=   3.1s\n[CV] END ..............................C=1000, kernel=linear; total time=   2.4s\n[CV] END ..............................C=1000, kernel=linear; total time=   4.3s\n[CV] END .......................C=1, gamma=0.001, kernel=rbf; total time=   5.5s\n[CV] END .......................C=1, gamma=0.001, kernel=rbf; total time=   4.5s\n[CV] END .......................C=1, gamma=0.001, kernel=rbf; total time=   2.7s\n[CV] END .......................C=1, gamma=0.001, kernel=rbf; total time=   2.8s\n[CV] END .......................C=1, gamma=0.001, kernel=rbf; total time=   3.2s\n[CV] END ......................C=1, gamma=0.0001, kernel=rbf; total time=   3.6s\n[CV] END ......................C=1, gamma=0.0001, kernel=rbf; total time=   5.5s\n[CV] END ......................C=1, gamma=0.0001, kernel=rbf; total time=   7.1s\n[CV] END ......................C=1, gamma=0.0001, kernel=rbf; total time=   5.1s\n[CV] END ......................C=1, gamma=0.0001, kernel=rbf; total time=   4.4s\n[CV] END ......................C=10, gamma=0.001, kernel=rbf; total time=   7.1s\n[CV] END ......................C=10, gamma=0.001, kernel=rbf; total time=   5.2s\n[CV] END ......................C=10, gamma=0.001, kernel=rbf; total time=   7.1s\n[CV] END ......................C=10, gamma=0.001, kernel=rbf; total time=   3.2s\n[CV] END ......................C=10, gamma=0.001, kernel=rbf; total time=   3.1s\n[CV] END .....................C=10, gamma=0.0001, kernel=rbf; total time=   2.6s\n[CV] END .....................C=10, gamma=0.0001, kernel=rbf; total time=   3.4s\n[CV] END .....................C=10, gamma=0.0001, kernel=rbf; total time=   6.1s\n[CV] END .....................C=10, gamma=0.0001, kernel=rbf; total time=   3.9s\n[CV] END .....................C=10, gamma=0.0001, kernel=rbf; total time=   3.2s\n[CV] END .....................C=100, gamma=0.001, kernel=rbf; total time=   2.9s\n[CV] END .....................C=100, gamma=0.001, kernel=rbf; total time=   2.5s\n[CV] END .....................C=100, gamma=0.001, kernel=rbf; total time=   3.1s\n[CV] END .....................C=100, gamma=0.001, kernel=rbf; total time=   3.9s\n[CV] END .....................C=100, gamma=0.001, kernel=rbf; total time=   3.5s\n[CV] END ....................C=100, gamma=0.0001, kernel=rbf; total time=   6.0s\n[CV] END ....................C=100, gamma=0.0001, kernel=rbf; total time=   7.6s\n[CV] END ....................C=100, gamma=0.0001, kernel=rbf; total time=   4.4s\n"
    }
   ],
   "source": "from sklearn.model_selection import GridSearchCV\nfrom sklearn import svm\n\nparam_grid = [\n                {'C':[1,10,100,1000],'kernel':['linear']},\n                {'C':[1,10,100,1000],'gamma':[0.001,0.0001],'kernel':['rbf']}\n]\n\nsvc = svm.SVC(probability=True)\nclf = GridSearchCV(svc,param_grid,verbose=2,n_jobs=1)\nclf.fit(X_train,y_train,)"
  },
  {
   "cell_type": "code",
   "execution_count": 53,
   "metadata": {},
   "outputs": [
    {
     "name": "stdout",
     "output_type": "stream",
     "text": "0\n1\n2\n3\n4\n5\n6\n7\n8\n9\n"
    }
   ],
   "source": "for i in range(0,10):\n    print(i)"
  }
 ],
 "metadata": {
  "kernelspec": {
   "display_name": "Python 3 (ipykernel)",
   "language": "python",
   "name": "python3"
  },
  "language_info": {
   "codemirror_mode": {
    "name": "ipython",
    "version": 3
   },
   "file_extension": ".py",
   "mimetype": "text/x-python",
   "name": "python",
   "nbconvert_exporter": "python",
   "pygments_lexer": "ipython3",
   "version": "3.8.10"
  }
 },
 "nbformat": 4,
 "nbformat_minor": 4
}

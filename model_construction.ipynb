{
 "cells": [
  {
   "cell_type": "code",
   "execution_count": 1,
   "metadata": {},
   "outputs": [],
   "source": "# To get data (looking at images here):\n# 1. Download images manually\n# 2. Kaggle.com\n# 3. Build image web crawler\n# 4. Use Python libraries to scrape the images  this is the method used here using the bing-image-downlaoder library"
  },
  {
   "cell_type": "code",
   "execution_count": 2,
   "metadata": {},
   "outputs": [
    {
     "name": "stdout",
     "output_type": "stream",
     "text": "/usr/lib/python3/dist-packages/secretstorage/dhcrypto.py:15: CryptographyDeprecationWarning: int_from_bytes is deprecated, use int.from_bytes instead\n  from cryptography.utils import int_from_bytes\n/usr/lib/python3/dist-packages/secretstorage/util.py:19: CryptographyDeprecationWarning: int_from_bytes is deprecated, use int.from_bytes instead\n  from cryptography.utils import int_from_bytes\nDefaulting to user installation because normal site-packages is not writeable\nCollecting bing-image-downloader\n  Downloading bing_image_downloader-1.1.2-py3-none-any.whl (5.9 kB)\nInstalling collected packages: bing-image-downloader\nSuccessfully installed bing-image-downloader-1.1.2\n"
    }
   ],
   "source": "!pip install bing-image-downloader"
  },
  {
   "cell_type": "code",
   "execution_count": 9,
   "metadata": {},
   "outputs": [],
   "source": "from bing_image_downloader import downloader"
  },
  {
   "cell_type": "code",
   "execution_count": 11,
   "metadata": {},
   "outputs": [
    {
     "name": "stdout",
     "output_type": "stream",
     "text": "[%] Downloading Images to /home/den/Google Drive/2. Projects/P:wild_life_classifier/wild_life_classifier/images/pigeon\n\n\n[!!]Indexing page: 1\n\n[%] Indexed 17 Images on Page 1.\n\n===============================================\n\n[%] Downloading Image #1 from http://fromhousetohomeblog.files.wordpress.com/2011/07/pigeons.jpg\n[Error]Invalid image, not saving http://fromhousetohomeblog.files.wordpress.com/2011/07/pigeons.jpg\n\n[!] Issue getting: http://fromhousetohomeblog.files.wordpress.com/2011/07/pigeons.jpg\n[!] Error:: Invalid image, not saving http://fromhousetohomeblog.files.wordpress.com/2011/07/pigeons.jpg\n\n[%] Downloading Image #1 from https://www.animalfunfacts.net/images/stories/photos/birds/pigeons/pigeon/pigeon_l.jpg\n[%] File Downloaded !\n\n[%] Downloading Image #2 from http://images6.fanpop.com/image/photos/41200000/Pigeons-pigeons-41211472-1024-768.jpg\n[%] File Downloaded !\n\n[%] Downloading Image #3 from http://3.bp.blogspot.com/-9lMC-dfYJ0A/UoyRuPi7fkI/AAAAAAAAJls/ISeov-rNzsU/s1600/Pigeon+Bird+New+Wallpaper+08.jpg\n[%] File Downloaded !\n\n[%] Downloading Image #4 from https://2.bp.blogspot.com/-JVGZ3smC1rg/VIB51zCT_DI/AAAAAAAAAk0/qt0Qh2lp3NE/s1600/pigeon.jpg\n[%] File Downloaded !\n\n[%] Downloading Image #5 from http://www.hdwallpapers.in/download/flying_pigeon-1920x1080.jpg\n[%] File Downloaded !\n\n[%] Downloading Image #6 from http://www.bearriverranch.com/Archives/Animals/images/Bird_Pigeon2.JPG\n[%] File Downloaded !\n\n[%] Downloading Image #7 from https://upload.wikimedia.org/wikipedia/commons/thumb/a/a9/Pigeons.jpg/655px-Pigeons.jpg\n[%] File Downloaded !\n\n[%] Downloading Image #8 from http://www.permuted.org.uk/photography/wp-content/uploads/2013/04/pigeon_1204138685.jpg\n[%] File Downloaded !\n\n[%] Downloading Image #9 from http://www.publicdomainpictures.net/pictures/120000/velka/pigeon-14251760434Tf.jpg\n[%] File Downloaded !\n\n[%] Downloading Image #10 from https://i.ytimg.com/vi/NcWnEEsvqdg/maxresdefault.jpg\n[%] File Downloaded !\n\n[%] Downloading Image #11 from https://content.peat-cloud.com/thumbnails/phytophthora-blight-1.jpg\n[%] File Downloaded !\n\n[%] Downloading Image #12 from https://3.bp.blogspot.com/-JtrDroqBc8w/URezLHSv36I/AAAAAAAAIEM/USzDDI13Naw/s1600/Rainbow+River.jpg\n[%] File Downloaded !\n\n[%] Downloading Image #13 from https://cdn.onlyinyourstate.com/wp-content/uploads/2016/11/11255333363_065c575886_k-700x393.jpg\n[%] File Downloaded !\n\n[%] Downloading Image #14 from http://www.gowaterfalling.com/waterfalls/images/full/mn/baptismhighfalls5.jpg\n[%] File Downloaded !\n\n[%] Downloading Image #15 from https://pyxis.nymag.com/v1/imgs/dbd/9f3/628e756d9f3db2fa2bcaaf0b64ad401244-interior3.rsquare.w768.jpg\n[Error]Invalid image, not saving https://pyxis.nymag.com/v1/imgs/dbd/9f3/628e756d9f3db2fa2bcaaf0b64ad401244-interior3.rsquare.w768.jpg\n\n[!] Issue getting: https://pyxis.nymag.com/v1/imgs/dbd/9f3/628e756d9f3db2fa2bcaaf0b64ad401244-interior3.rsquare.w768.jpg\n[!] Error:: Invalid image, not saving https://pyxis.nymag.com/v1/imgs/dbd/9f3/628e756d9f3db2fa2bcaaf0b64ad401244-interior3.rsquare.w768.jpg\n\n[%] Downloading Image #15 from https://www.derekwinnert.com/wp-content/uploads/2013/12/77.jpg\n[%] File Downloaded !\n\n\n\n[!!]Indexing page: 2\n\n[%] Indexed 17 Images on Page 2.\n\n===============================================\n\n\n\n[!!]Indexing page: 3\n\n[%] Indexed 17 Images on Page 3.\n\n===============================================\n\n[%] Downloading Image #16 from https://www.publicdomainpictures.net/pictures/70000/velka/pigeon-1384591926sFf.jpg\n[%] File Downloaded !\n\n[%] Downloading Image #17 from http://3.bp.blogspot.com/-CbiQWfbq5ws/UoySguqHIAI/AAAAAAAAJmY/8trtX29iQOc/s1600/Pigeon+Bird+New+Wallpaper+10.jpg\n[%] File Downloaded !\n\n[%] Downloading Image #18 from https://lh5.googleusercontent.com/-K3LIvM58BvA/TYXkdultErI/AAAAAAAACrE/ux1VUYV9Gx8/s1600/pigeon.jpg\n[%] File Downloaded !\n\n[%] Downloading Image #19 from http://2.bp.blogspot.com/-JVGZ3smC1rg/VIB51zCT_DI/AAAAAAAAAk0/qt0Qh2lp3NE/s1600/pigeon.jpg\n[%] File Downloaded !\n\n[%] Downloading Image #20 from https://www.freeimageslive.co.uk/files/images008/pigeon.jpg\n[%] File Downloaded !\n\n\n\n[%] Done. Downloaded 20 images.\n"
    }
   ],
   "source": "downloader.download(\"pigeon\", limit = 20,output_dir=\"images\", adult_filter_off=True)"
  },
  {
   "cell_type": "code",
   "execution_count": 15,
   "metadata": {},
   "outputs": [
    {
     "name": "stdout",
     "output_type": "stream",
     "text": "[%] Downloading Images to /home/den/Google Drive/2. Projects/P:wild_life_classifier/wild_life_classifier/images/daffodil\n\n\n[!!]Indexing page: 1\n\n[%] Indexed 17 Images on Page 1.\n\n===============================================\n\n[%] Downloading Image #1 from http://images5.fanpop.com/image/photos/30700000/Daffodil-flowers-30709818-1600-1200.jpg\n[%] File Downloaded !\n\n[%] Downloading Image #2 from http://www.wallpapers13.com/wp-content/uploads/2015/12/Daffodils-flowers-23456-1920x1080.jpg\n[%] File Downloaded !\n\n[%] Downloading Image #3 from http://1.bp.blogspot.com/-cjbmx8mTOnI/TlYtpDQiNGI/AAAAAAAAL4k/du0NGx13Qr8/s1600/first+daffodil+flower+august+19th+2011.jpg\n[%] File Downloaded !\n\n[%] Downloading Image #4 from https://www.wallpapers13.com/wp-content/uploads/2015/12/Daffodils-flowers-3789.jpg\n[%] File Downloaded !\n\n[%] Downloading Image #5 from https://images2.pics4learning.com/catalog/d/daffodil.jpg\n[%] File Downloaded !\n\n[%] Downloading Image #6 from http://www.flowermeaning.com/flower-pics/Daffodil-1.jpg\n[%] File Downloaded !\n\n[%] Downloading Image #7 from http://gardenersnet.com/flower/pics/daffodil04.jpg\n[%] File Downloaded !\n\n[%] Downloading Image #8 from http://www.wallpapers13.com/wp-content/uploads/2015/12/Daffodils-flowers-553-1680x1050.jpg\n[%] File Downloaded !\n\n[%] Downloading Image #9 from http://farm4.staticflickr.com/3247/3070649760_edd8e9e07c_z.jpg\n[%] File Downloaded !\n\n[%] Downloading Image #10 from https://2.bp.blogspot.com/-jcGbVwRcut4/UbyvZG841fI/AAAAAAAASfw/qRQUXnJfPtI/s320/Daffodils+6.jpg\n[%] File Downloaded !\n\n[%] Downloading Image #11 from http://www.tattooeasily.com/wp-content/uploads/2013/06/101.jpg\n[%] File Downloaded !\n\n[%] Downloading Image #12 from https://www.whiteflowerfarm.com/mas_assets/cache/image/2/5/4/3/9539.Jpg\n[%] File Downloaded !\n\n[%] Downloading Image #13 from https://www.colorblends.com/media/prime/product/7065_RedRIval_CWH_L1001647P.jpg\n[%] File Downloaded !\n\n[%] Downloading Image #14 from https://www.missydress.uk.com/media/catalog/product/cache/1/image/9df78eab33525d08d6e5fb8d27136e95/p/o/po16033po1177-1.jpg\n[%] File Downloaded !\n\n[%] Downloading Image #15 from https://cdn.sofiehouse.co/media/catalog/product/cache/1/image/9df78eab33525d08d6e5fb8d27136e95/S/e/Sexy-One-Shoulder-Long-Orange-Chiffon-Beaded-Crystal-Prom-Dress-With-Slit.jpg\n[%] File Downloaded !\n\n[%] Downloading Image #16 from http://www.321horoscope.com/wp-content/uploads/2018/01/april-2.jpg\n[%] File Downloaded !\n\n[%] Downloading Image #17 from https://d29jd5m3t61t9.cloudfront.net/myantiquefurniturecollection.com/images/fbfiles/images/625w/WP_000703_v_1517659448.jpg\n[%] File Downloaded !\n\n\n\n[!!]Indexing page: 2\n\n[%] Indexed 17 Images on Page 2.\n\n===============================================\n\n\n\n[!!]Indexing page: 3\n\n[%] Indexed 16 Images on Page 3.\n\n===============================================\n\n\n\n[!!]Indexing page: 4\n\n[%] Indexed 15 Images on Page 4.\n\n===============================================\n\n\n\n[!!]Indexing page: 5\n\n[%] Indexed 13 Images on Page 5.\n\n===============================================\n\n[%] Downloading Image #18 from https://1.bp.blogspot.com/-YVv_XEr6g3Q/UixHz0Zd7iI/AAAAAAAAjtA/mt1tJynUgbg/s1600/Daffodil+Flowers+16.jpg\n[%] File Downloaded !\n\n[%] Downloading Image #19 from https://i.etsystatic.com/18741467/r/il/928c01/2216979583/il_1588xN.2216979583_s0s4.jpg\n[%] File Downloaded !\n\n[%] Downloading Image #20 from https://hgtvhome.sndimg.com/content/dam/images/hgtv/editorial/blogs/fullset/Kayla/Original-BPF-KK_fall-house-palette3.jpg.rend.hgtvcom.616.822.suffix/1470416044907.jpeg\n[Error]Invalid image, not saving https://hgtvhome.sndimg.com/content/dam/images/hgtv/editorial/blogs/fullset/Kayla/Original-BPF-KK_fall-house-palette3.jpg.rend.hgtvcom.616.822.suffix/1470416044907.jpeg\n\n[!] Issue getting: https://hgtvhome.sndimg.com/content/dam/images/hgtv/editorial/blogs/fullset/Kayla/Original-BPF-KK_fall-house-palette3.jpg.rend.hgtvcom.616.822.suffix/1470416044907.jpeg\n[!] Error:: Invalid image, not saving https://hgtvhome.sndimg.com/content/dam/images/hgtv/editorial/blogs/fullset/Kayla/Original-BPF-KK_fall-house-palette3.jpg.rend.hgtvcom.616.822.suffix/1470416044907.jpeg\n\n[%] Downloading Image #20 from https://thegraphicsfairy.com/wp-content/uploads/2014/06/Vintage-Daffodil-Picture-GraphicsFairy-543x1024.jpg\n[%] File Downloaded !\n\n\n\n[%] Done. Downloaded 20 images.\n"
    }
   ],
   "source": "downloader.download(\"daffodil\", limit = 20,output_dir=\"images\", adult_filter_off=True)"
  },
  {
   "cell_type": "code",
   "execution_count": 24,
   "metadata": {},
   "outputs": [
    {
     "name": "stdout",
     "output_type": "stream",
     "text": "[%] Downloading Images to /home/den/Google Drive/2. Projects/P:wild_life_classifier/wild_life_classifier/images/fox\n\n\n[!!]Indexing page: 1\n\n[%] Indexed 18 Images on Page 1.\n\n===============================================\n\n[%] Downloading Image #1 from https://3.bp.blogspot.com/-5UDtiW8W1_w/T2ra_oHrDnI/AAAAAAAAC2s/B4217gUB8wY/s1600/fox+7.jpg\n[%] File Downloaded !\n\n[%] Downloading Image #2 from http://images6.fanpop.com/image/photos/40000000/FOX-fox-40076151-960-633.jpg\n[%] File Downloaded !\n\n[%] Downloading Image #3 from https://animalia-life.com/data_images/fox/fox2.jpg\n[!] Issue getting: https://animalia-life.com/data_images/fox/fox2.jpg\n[!] Error:: <urlopen error [SSL: WRONG_SIGNATURE_TYPE] wrong signature type (_ssl.c:1131)>\n[%] Downloading Image #3 from http://images1.fanpop.com/images/photos/1300000/Foxes-fox-1326189-545-707.jpg\n[%] File Downloaded !\n\n[%] Downloading Image #4 from https://i1.treknature.com/photos/1652/fox1.jpg\n[!] Issue getting: https://i1.treknature.com/photos/1652/fox1.jpg\n[!] Error:: HTTP Error 403: Forbidden\n[%] Downloading Image #4 from https://i1.treknature.com/photos/16739/fox2.jpg\n[!] Issue getting: https://i1.treknature.com/photos/16739/fox2.jpg\n[!] Error:: HTTP Error 403: Forbidden\n[%] Downloading Image #4 from https://cincinnatizoo.org/system/assets/uploads/2012/12/24074310882_1097344c73_k.jpg\n[%] File Downloaded !\n\n[%] Downloading Image #5 from http://www.paulnoll.com/Books/5000-Words/5000-pic-fox.jpg\n[%] File Downloaded !\n\n[%] Downloading Image #6 from http://wildlife-animals.com/photo-gallery/fox-3.jpg\n[%] File Downloaded !\n\n[%] Downloading Image #7 from https://images2.pics4learning.com/catalog/f/fox1.jpg\n[%] File Downloaded !\n\n[%] Downloading Image #8 from http://images1.fanpop.com/images/photos/1300000/Foxes-fox-1326124-800-546.jpg\n[%] File Downloaded !\n\n[%] Downloading Image #9 from https://en.wikifur.com/w/images/thumb/1/1f/Lookforward.jpg/200px-Lookforward.jpg\n[%] File Downloaded !\n\n[%] Downloading Image #10 from https://www.galeriemagazine.com/wp-content/uploads/2017/08/RD_Fox_0135_Unretouched-copy.jpg\n[%] File Downloaded !\n\n[%] Downloading Image #11 from https://www.biolib.cz/IMG/GAL/176371.jpg\n[%] File Downloaded !\n\n[%] Downloading Image #12 from https://i.pinimg.com/736x/d2/da/36/d2da36ca4dd859d78e02831ff5f085de.jpg\n[%] File Downloaded !\n\n[%] Downloading Image #13 from https://www.laguiadelvaron.com/wp-content/uploads/2015/07/las-mujeres-de-la-copa-america_1915jbuwn7ziu1h2hmh7twwlfr.jpg\n[%] File Downloaded !\n\n[%] Downloading Image #14 from http://www.wallpapers13.com/wp-content/uploads/2018/08/Animals-Reptiles-Gecko-Green-Lizard-4k-Wallpapers-HD-Images-for-Desktop-and-Mobile-3840x2400-1920x1440.jpg\n[%] File Downloaded !\n\n[%] Downloading Image #15 from https://classymommy.com/wp-content/uploads/2015/08/IMG_0336.jpg\n[%] File Downloaded !\n\n\n\n[!!]Indexing page: 2\n\n[%] Indexed 18 Images on Page 2.\n\n===============================================\n\n\n\n[!!]Indexing page: 3\n\n[%] Indexed 16 Images on Page 3.\n\n===============================================\n\n[%] Downloading Image #16 from http://images5.fanpop.com/image/photos/24500000/Fox-fox-24576824-1897-1292.jpg\n[%] File Downloaded !\n\n[%] Downloading Image #17 from https://www.wallpapersdsc.net/wp-content/uploads/2017/05/Fox-Download.jpg\n[%] File Downloaded !\n\n[%] Downloading Image #18 from https://focusingonwildlife.com/news/wp-content/gallery/best-photo-of-the-month-march-2018/red-fox-2_6669.jpg\n[%] File Downloaded !\n\n[%] Downloading Image #19 from https://m5.paperblog.com/i/84/846851/fox-pictures-L-81Eu68.jpeg\n[%] File Downloaded !\n\n[%] Downloading Image #20 from http://media.santabanta.com/medium1/animals/foxes/foxes-2a.jpg\n[!] Issue getting: http://media.santabanta.com/medium1/animals/foxes/foxes-2a.jpg\n[!] Error:: timed out\n[%] Downloading Image #20 from http://www.extremedeer.com/images/Fox-Picture.jpg\n[%] File Downloaded !\n\n\n\n[%] Done. Downloaded 20 images.\n"
    }
   ],
   "source": "downloader.download(\"fox\", limit = 20,output_dir=\"images\", adult_filter_off=True)"
  },
  {
   "cell_type": "code",
   "execution_count": 34,
   "metadata": {},
   "outputs": [
    {
     "name": "stderr",
     "output_type": "stream",
     "text": "/home/den/.local/lib/python3.8/site-packages/skimage/io/manage_plugins.py:23: UserWarning: Your installed pillow version is < 8.1.2. Several security issues (CVE-2021-27921, CVE-2021-25290, CVE-2021-25291, CVE-2021-25293, and more) have been fixed in pillow 8.1.2 or higher. We recommend to upgrade this library.\n  from .collection import imread_collection_wrapper\n"
    },
    {
     "name": "stdout",
     "output_type": "stream",
     "text": "time: 1 s (started: 2022-09-14 17:24:30 +01:00)\n"
    }
   ],
   "source": "# Preprocessing\n# 1. Resizing\n# 2. Flattening\n\n\nimport os\nimport matplotlib.pyplot as plt\nimport numpy as np\nfrom skimage.io import imread\nfrom skimage.transform import resize"
  },
  {
   "cell_type": "code",
   "execution_count": 43,
   "metadata": {},
   "outputs": [],
   "source": "targets = []\nimages = []\nflat_data = []\n\nDATADIR = 'images'\nCATEGORIES = ['pigeon','daffodil','fox']"
  },
  {
   "cell_type": "code",
   "execution_count": 45,
   "metadata": {},
   "outputs": [
    {
     "ename": "ValueError",
     "evalue": "Could not find a backend to open `images/daffodil/Image_19.jpg`` with iomode `ri`.",
     "output_type": "error",
     "traceback": [
      "\u001b[0;31m---------------------------------------------------------------------------\u001b[0m",
      "\u001b[0;31mValueError\u001b[0m                                Traceback (most recent call last)",
      "Input \u001b[0;32mIn [45]\u001b[0m, in \u001b[0;36m<cell line: 1>\u001b[0;34m()\u001b[0m\n\u001b[1;32m      3\u001b[0m path \u001b[38;5;241m=\u001b[39m os\u001b[38;5;241m.\u001b[39mpath\u001b[38;5;241m.\u001b[39mjoin(DATADIR,category)\n\u001b[1;32m      4\u001b[0m \u001b[38;5;28;01mfor\u001b[39;00m img \u001b[38;5;129;01min\u001b[39;00m os\u001b[38;5;241m.\u001b[39mlistdir(path):\n\u001b[0;32m----> 5\u001b[0m     img_array \u001b[38;5;241m=\u001b[39m \u001b[43mimread\u001b[49m\u001b[43m(\u001b[49m\u001b[43mos\u001b[49m\u001b[38;5;241;43m.\u001b[39;49m\u001b[43mpath\u001b[49m\u001b[38;5;241;43m.\u001b[39;49m\u001b[43mjoin\u001b[49m\u001b[43m(\u001b[49m\u001b[43mpath\u001b[49m\u001b[43m,\u001b[49m\u001b[43mimg\u001b[49m\u001b[43m)\u001b[49m\u001b[43m)\u001b[49m\n\u001b[1;32m      6\u001b[0m     img_resized \u001b[38;5;241m=\u001b[39m resize(img_array, (\u001b[38;5;241m150\u001b[39m,\u001b[38;5;241m150\u001b[39m,\u001b[38;5;241m3\u001b[39m))\n\u001b[1;32m      7\u001b[0m     flat_data\u001b[38;5;241m.\u001b[39mappend(img_resized\u001b[38;5;241m.\u001b[39mflatten())\n",
      "File \u001b[0;32m~/.local/lib/python3.8/site-packages/skimage/io/_io.py:53\u001b[0m, in \u001b[0;36mimread\u001b[0;34m(fname, as_gray, plugin, **plugin_args)\u001b[0m\n\u001b[1;32m     50\u001b[0m         plugin \u001b[38;5;241m=\u001b[39m \u001b[38;5;124m'\u001b[39m\u001b[38;5;124mtifffile\u001b[39m\u001b[38;5;124m'\u001b[39m\n\u001b[1;32m     52\u001b[0m \u001b[38;5;28;01mwith\u001b[39;00m file_or_url_context(fname) \u001b[38;5;28;01mas\u001b[39;00m fname:\n\u001b[0;32m---> 53\u001b[0m     img \u001b[38;5;241m=\u001b[39m \u001b[43mcall_plugin\u001b[49m\u001b[43m(\u001b[49m\u001b[38;5;124;43m'\u001b[39;49m\u001b[38;5;124;43mimread\u001b[39;49m\u001b[38;5;124;43m'\u001b[39;49m\u001b[43m,\u001b[49m\u001b[43m \u001b[49m\u001b[43mfname\u001b[49m\u001b[43m,\u001b[49m\u001b[43m \u001b[49m\u001b[43mplugin\u001b[49m\u001b[38;5;241;43m=\u001b[39;49m\u001b[43mplugin\u001b[49m\u001b[43m,\u001b[49m\u001b[43m \u001b[49m\u001b[38;5;241;43m*\u001b[39;49m\u001b[38;5;241;43m*\u001b[39;49m\u001b[43mplugin_args\u001b[49m\u001b[43m)\u001b[49m\n\u001b[1;32m     55\u001b[0m \u001b[38;5;28;01mif\u001b[39;00m \u001b[38;5;129;01mnot\u001b[39;00m \u001b[38;5;28mhasattr\u001b[39m(img, \u001b[38;5;124m'\u001b[39m\u001b[38;5;124mndim\u001b[39m\u001b[38;5;124m'\u001b[39m):\n\u001b[1;32m     56\u001b[0m     \u001b[38;5;28;01mreturn\u001b[39;00m img\n",
      "File \u001b[0;32m~/.local/lib/python3.8/site-packages/skimage/io/manage_plugins.py:207\u001b[0m, in \u001b[0;36mcall_plugin\u001b[0;34m(kind, *args, **kwargs)\u001b[0m\n\u001b[1;32m    203\u001b[0m     \u001b[38;5;28;01mexcept\u001b[39;00m \u001b[38;5;167;01mIndexError\u001b[39;00m:\n\u001b[1;32m    204\u001b[0m         \u001b[38;5;28;01mraise\u001b[39;00m \u001b[38;5;167;01mRuntimeError\u001b[39;00m(\u001b[38;5;124m'\u001b[39m\u001b[38;5;124mCould not find the plugin \u001b[39m\u001b[38;5;124m\"\u001b[39m\u001b[38;5;132;01m%s\u001b[39;00m\u001b[38;5;124m\"\u001b[39m\u001b[38;5;124m for \u001b[39m\u001b[38;5;132;01m%s\u001b[39;00m\u001b[38;5;124m.\u001b[39m\u001b[38;5;124m'\u001b[39m \u001b[38;5;241m%\u001b[39m\n\u001b[1;32m    205\u001b[0m                            (plugin, kind))\n\u001b[0;32m--> 207\u001b[0m \u001b[38;5;28;01mreturn\u001b[39;00m \u001b[43mfunc\u001b[49m\u001b[43m(\u001b[49m\u001b[38;5;241;43m*\u001b[39;49m\u001b[43margs\u001b[49m\u001b[43m,\u001b[49m\u001b[43m \u001b[49m\u001b[38;5;241;43m*\u001b[39;49m\u001b[38;5;241;43m*\u001b[39;49m\u001b[43mkwargs\u001b[49m\u001b[43m)\u001b[49m\n",
      "File \u001b[0;32m~/.local/lib/python3.8/site-packages/skimage/io/_plugins/imageio_plugin.py:15\u001b[0m, in \u001b[0;36mimread\u001b[0;34m(*args, **kwargs)\u001b[0m\n\u001b[1;32m     13\u001b[0m \u001b[38;5;129m@wraps\u001b[39m(imageio_imread)\n\u001b[1;32m     14\u001b[0m \u001b[38;5;28;01mdef\u001b[39;00m \u001b[38;5;21mimread\u001b[39m(\u001b[38;5;241m*\u001b[39margs, \u001b[38;5;241m*\u001b[39m\u001b[38;5;241m*\u001b[39mkwargs):\n\u001b[0;32m---> 15\u001b[0m     \u001b[38;5;28;01mreturn\u001b[39;00m np\u001b[38;5;241m.\u001b[39masarray(\u001b[43mimageio_imread\u001b[49m\u001b[43m(\u001b[49m\u001b[38;5;241;43m*\u001b[39;49m\u001b[43margs\u001b[49m\u001b[43m,\u001b[49m\u001b[43m \u001b[49m\u001b[38;5;241;43m*\u001b[39;49m\u001b[38;5;241;43m*\u001b[39;49m\u001b[43mkwargs\u001b[49m\u001b[43m)\u001b[49m)\n",
      "File \u001b[0;32m~/.local/lib/python3.8/site-packages/imageio/v2.py:200\u001b[0m, in \u001b[0;36mimread\u001b[0;34m(uri, format, **kwargs)\u001b[0m\n\u001b[1;32m    197\u001b[0m imopen_args \u001b[38;5;241m=\u001b[39m decypher_format_arg(\u001b[38;5;28mformat\u001b[39m)\n\u001b[1;32m    198\u001b[0m imopen_args[\u001b[38;5;124m\"\u001b[39m\u001b[38;5;124mlegacy_mode\u001b[39m\u001b[38;5;124m\"\u001b[39m] \u001b[38;5;241m=\u001b[39m \u001b[38;5;28;01mTrue\u001b[39;00m\n\u001b[0;32m--> 200\u001b[0m \u001b[38;5;28;01mwith\u001b[39;00m \u001b[43mimopen\u001b[49m\u001b[43m(\u001b[49m\u001b[43muri\u001b[49m\u001b[43m,\u001b[49m\u001b[43m \u001b[49m\u001b[38;5;124;43m\"\u001b[39;49m\u001b[38;5;124;43mri\u001b[39;49m\u001b[38;5;124;43m\"\u001b[39;49m\u001b[43m,\u001b[49m\u001b[43m \u001b[49m\u001b[38;5;241;43m*\u001b[39;49m\u001b[38;5;241;43m*\u001b[39;49m\u001b[43mimopen_args\u001b[49m\u001b[43m)\u001b[49m \u001b[38;5;28;01mas\u001b[39;00m file:\n\u001b[1;32m    201\u001b[0m     \u001b[38;5;28;01mreturn\u001b[39;00m file\u001b[38;5;241m.\u001b[39mread(index\u001b[38;5;241m=\u001b[39m\u001b[38;5;241m0\u001b[39m, \u001b[38;5;241m*\u001b[39m\u001b[38;5;241m*\u001b[39mkwargs)\n",
      "File \u001b[0;32m~/.local/lib/python3.8/site-packages/imageio/core/imopen.py:303\u001b[0m, in \u001b[0;36mimopen\u001b[0;34m(uri, io_mode, plugin, extension, format_hint, legacy_mode, **kwargs)\u001b[0m\n\u001b[1;32m    297\u001b[0m         err_msg \u001b[38;5;241m+\u001b[39m\u001b[38;5;241m=\u001b[39m (\n\u001b[1;32m    298\u001b[0m             \u001b[38;5;124m\"\u001b[39m\u001b[38;5;130;01m\\n\u001b[39;00m\u001b[38;5;124mBased on the extension, the following plugins might add capable backends:\u001b[39m\u001b[38;5;130;01m\\n\u001b[39;00m\u001b[38;5;124m\"\u001b[39m\n\u001b[1;32m    299\u001b[0m             \u001b[38;5;124mf\u001b[39m\u001b[38;5;124m\"\u001b[39m\u001b[38;5;132;01m{\u001b[39;00minstall_candidates\u001b[38;5;132;01m}\u001b[39;00m\u001b[38;5;124m\"\u001b[39m\n\u001b[1;32m    300\u001b[0m         )\n\u001b[1;32m    302\u001b[0m request\u001b[38;5;241m.\u001b[39mfinish()\n\u001b[0;32m--> 303\u001b[0m \u001b[38;5;28;01mraise\u001b[39;00m err_type(err_msg)\n",
      "\u001b[0;31mValueError\u001b[0m: Could not find a backend to open `images/daffodil/Image_19.jpg`` with iomode `ri`."
     ]
    }
   ],
   "source": "for category in CATEGORIES:\n    class_num = CATEGORIES.index(category)\n    path = os.path.join(DATADIR,category)\n    for img in os.listdir(path):\n        img_array = imread(os.path.join(path,img))\n        img_resized = resize(img_array, (150,150,3))\n        flat_data.append(img_resized.flatten())\n        images.append(img_resized)\n        targets.append(class_num)\n\nflat_data = np.array(flat_data)\ntarget = np.array(targets)\nimages = np.array(images)"
  }
 ],
 "metadata": {
  "kernelspec": {
   "display_name": "Python 3 (ipykernel)",
   "language": "python",
   "name": "python3"
  },
  "language_info": {
   "codemirror_mode": {
    "name": "ipython",
    "version": 3
   },
   "file_extension": ".py",
   "mimetype": "text/x-python",
   "name": "python",
   "nbconvert_exporter": "python",
   "pygments_lexer": "ipython3",
   "version": "3.8.10"
  }
 },
 "nbformat": 4,
 "nbformat_minor": 4
}
